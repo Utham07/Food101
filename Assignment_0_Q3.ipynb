{
 "cells": [
  {
   "cell_type": "code",
   "execution_count": 1,
   "id": "0729fcf3-5146-4894-832e-011c73a513ca",
   "metadata": {},
   "outputs": [],
   "source": [
    "import pandas as pd\n",
    "import math #for calculation of geometric mean"
   ]
  },
  {
   "cell_type": "code",
   "execution_count": 2,
   "id": "109bec48-3efb-4064-a684-908a1e032660",
   "metadata": {},
   "outputs": [],
   "source": [
    "df = pd.read_csv(\"IITK_Courses_Report.csv\")"
   ]
  },
  {
   "cell_type": "code",
   "execution_count": 3,
   "id": "b73faecc-4def-41e0-af50-a42e061554a9",
   "metadata": {},
   "outputs": [
    {
     "data": {
      "text/plain": [
       "0      False\n",
       "1      False\n",
       "2      False\n",
       "3      False\n",
       "4      False\n",
       "       ...  \n",
       "195    False\n",
       "196    False\n",
       "197    False\n",
       "198    False\n",
       "199    False\n",
       "Name: Student Name, Length: 200, dtype: bool"
      ]
     },
     "execution_count": 3,
     "metadata": {},
     "output_type": "execute_result"
    }
   ],
   "source": [
    "df['Student Name'].isnull()"
   ]
  },
  {
   "cell_type": "code",
   "execution_count": 4,
   "id": "cdc01edd-94f0-4e61-9b87-c63ee7b41597",
   "metadata": {},
   "outputs": [
    {
     "data": {
      "text/plain": [
       "0      False\n",
       "1      False\n",
       "2      False\n",
       "3      False\n",
       "4      False\n",
       "       ...  \n",
       "195    False\n",
       "196    False\n",
       "197    False\n",
       "198    False\n",
       "199    False\n",
       "Name: Course, Length: 200, dtype: bool"
      ]
     },
     "execution_count": 4,
     "metadata": {},
     "output_type": "execute_result"
    }
   ],
   "source": [
    "df['Course'].isnull()"
   ]
  },
  {
   "cell_type": "code",
   "execution_count": 5,
   "id": "0cb01a9b-1fa1-4067-893c-bd040839cde6",
   "metadata": {},
   "outputs": [
    {
     "data": {
      "text/plain": [
       "0      False\n",
       "1      False\n",
       "2      False\n",
       "3      False\n",
       "4      False\n",
       "       ...  \n",
       "195    False\n",
       "196    False\n",
       "197    False\n",
       "198    False\n",
       "199    False\n",
       "Name: Marks (%), Length: 200, dtype: bool"
      ]
     },
     "execution_count": 5,
     "metadata": {},
     "output_type": "execute_result"
    }
   ],
   "source": [
    "df['Marks (%)'].isnull()"
   ]
  },
  {
   "cell_type": "code",
   "execution_count": 6,
   "id": "f61d0f55-b783-45e5-a7ae-b1a6baf1c49c",
   "metadata": {},
   "outputs": [
    {
     "data": {
      "text/plain": [
       "0      False\n",
       "1      False\n",
       "2      False\n",
       "3      False\n",
       "4      False\n",
       "       ...  \n",
       "195    False\n",
       "196    False\n",
       "197    False\n",
       "198    False\n",
       "199    False\n",
       "Name: Attendance (%), Length: 200, dtype: bool"
      ]
     },
     "execution_count": 6,
     "metadata": {},
     "output_type": "execute_result"
    }
   ],
   "source": [
    "df['Attendance (%)'].isnull()"
   ]
  },
  {
   "cell_type": "code",
   "execution_count": 7,
   "id": "b2ab90b4-df77-467a-ab16-42c2c8408d20",
   "metadata": {},
   "outputs": [
    {
     "name": "stderr",
     "output_type": "stream",
     "text": [
      "C:\\Users\\Naveen\\AppData\\Local\\Temp\\ipykernel_29456\\3318736955.py:3: FutureWarning: Series.__getitem__ treating keys as positions is deprecated. In a future version, integer keys will always be treated as labels (consistent with DataFrame behavior). To access a value by position, use `ser.iloc[pos]`\n",
      "  if pd.isnull(row[2]):\n",
      "C:\\Users\\Naveen\\AppData\\Local\\Temp\\ipykernel_29456\\3318736955.py:3: FutureWarning: Series.__getitem__ treating keys as positions is deprecated. In a future version, integer keys will always be treated as labels (consistent with DataFrame behavior). To access a value by position, use `ser.iloc[pos]`\n",
      "  if pd.isnull(row[2]):\n",
      "C:\\Users\\Naveen\\AppData\\Local\\Temp\\ipykernel_29456\\3318736955.py:3: FutureWarning: Series.__getitem__ treating keys as positions is deprecated. In a future version, integer keys will always be treated as labels (consistent with DataFrame behavior). To access a value by position, use `ser.iloc[pos]`\n",
      "  if pd.isnull(row[2]):\n",
      "C:\\Users\\Naveen\\AppData\\Local\\Temp\\ipykernel_29456\\3318736955.py:3: FutureWarning: Series.__getitem__ treating keys as positions is deprecated. In a future version, integer keys will always be treated as labels (consistent with DataFrame behavior). To access a value by position, use `ser.iloc[pos]`\n",
      "  if pd.isnull(row[2]):\n",
      "C:\\Users\\Naveen\\AppData\\Local\\Temp\\ipykernel_29456\\3318736955.py:3: FutureWarning: Series.__getitem__ treating keys as positions is deprecated. In a future version, integer keys will always be treated as labels (consistent with DataFrame behavior). To access a value by position, use `ser.iloc[pos]`\n",
      "  if pd.isnull(row[2]):\n",
      "C:\\Users\\Naveen\\AppData\\Local\\Temp\\ipykernel_29456\\3318736955.py:3: FutureWarning: Series.__getitem__ treating keys as positions is deprecated. In a future version, integer keys will always be treated as labels (consistent with DataFrame behavior). To access a value by position, use `ser.iloc[pos]`\n",
      "  if pd.isnull(row[2]):\n",
      "C:\\Users\\Naveen\\AppData\\Local\\Temp\\ipykernel_29456\\3318736955.py:3: FutureWarning: Series.__getitem__ treating keys as positions is deprecated. In a future version, integer keys will always be treated as labels (consistent with DataFrame behavior). To access a value by position, use `ser.iloc[pos]`\n",
      "  if pd.isnull(row[2]):\n",
      "C:\\Users\\Naveen\\AppData\\Local\\Temp\\ipykernel_29456\\3318736955.py:3: FutureWarning: Series.__getitem__ treating keys as positions is deprecated. In a future version, integer keys will always be treated as labels (consistent with DataFrame behavior). To access a value by position, use `ser.iloc[pos]`\n",
      "  if pd.isnull(row[2]):\n",
      "C:\\Users\\Naveen\\AppData\\Local\\Temp\\ipykernel_29456\\3318736955.py:3: FutureWarning: Series.__getitem__ treating keys as positions is deprecated. In a future version, integer keys will always be treated as labels (consistent with DataFrame behavior). To access a value by position, use `ser.iloc[pos]`\n",
      "  if pd.isnull(row[2]):\n",
      "C:\\Users\\Naveen\\AppData\\Local\\Temp\\ipykernel_29456\\3318736955.py:3: FutureWarning: Series.__getitem__ treating keys as positions is deprecated. In a future version, integer keys will always be treated as labels (consistent with DataFrame behavior). To access a value by position, use `ser.iloc[pos]`\n",
      "  if pd.isnull(row[2]):\n",
      "C:\\Users\\Naveen\\AppData\\Local\\Temp\\ipykernel_29456\\3318736955.py:3: FutureWarning: Series.__getitem__ treating keys as positions is deprecated. In a future version, integer keys will always be treated as labels (consistent with DataFrame behavior). To access a value by position, use `ser.iloc[pos]`\n",
      "  if pd.isnull(row[2]):\n",
      "C:\\Users\\Naveen\\AppData\\Local\\Temp\\ipykernel_29456\\3318736955.py:3: FutureWarning: Series.__getitem__ treating keys as positions is deprecated. In a future version, integer keys will always be treated as labels (consistent with DataFrame behavior). To access a value by position, use `ser.iloc[pos]`\n",
      "  if pd.isnull(row[2]):\n",
      "C:\\Users\\Naveen\\AppData\\Local\\Temp\\ipykernel_29456\\3318736955.py:3: FutureWarning: Series.__getitem__ treating keys as positions is deprecated. In a future version, integer keys will always be treated as labels (consistent with DataFrame behavior). To access a value by position, use `ser.iloc[pos]`\n",
      "  if pd.isnull(row[2]):\n",
      "C:\\Users\\Naveen\\AppData\\Local\\Temp\\ipykernel_29456\\3318736955.py:3: FutureWarning: Series.__getitem__ treating keys as positions is deprecated. In a future version, integer keys will always be treated as labels (consistent with DataFrame behavior). To access a value by position, use `ser.iloc[pos]`\n",
      "  if pd.isnull(row[2]):\n"
     ]
    }
   ],
   "source": [
    "df_new = df\n",
    "for index, row in df.iterrows():\n",
    "        if pd.isnull(row[2]):\n",
    "            df_new.iloc[index, 2] = math.sqrt((df_new.iloc[index - 1, 2])*(df_new.iloc[index + 1, 2]))"
   ]
  },
  {
   "cell_type": "code",
   "execution_count": 8,
   "id": "4247ad01-97ab-470f-aace-4a99caaa19d4",
   "metadata": {},
   "outputs": [
    {
     "name": "stderr",
     "output_type": "stream",
     "text": [
      "C:\\Users\\Naveen\\AppData\\Local\\Temp\\ipykernel_29456\\2470326655.py:3: FutureWarning: Series.__getitem__ treating keys as positions is deprecated. In a future version, integer keys will always be treated as labels (consistent with DataFrame behavior). To access a value by position, use `ser.iloc[pos]`\n",
      "  if pd.isnull(row[3]):\n",
      "C:\\Users\\Naveen\\AppData\\Local\\Temp\\ipykernel_29456\\2470326655.py:3: FutureWarning: Series.__getitem__ treating keys as positions is deprecated. In a future version, integer keys will always be treated as labels (consistent with DataFrame behavior). To access a value by position, use `ser.iloc[pos]`\n",
      "  if pd.isnull(row[3]):\n",
      "C:\\Users\\Naveen\\AppData\\Local\\Temp\\ipykernel_29456\\2470326655.py:3: FutureWarning: Series.__getitem__ treating keys as positions is deprecated. In a future version, integer keys will always be treated as labels (consistent with DataFrame behavior). To access a value by position, use `ser.iloc[pos]`\n",
      "  if pd.isnull(row[3]):\n",
      "C:\\Users\\Naveen\\AppData\\Local\\Temp\\ipykernel_29456\\2470326655.py:3: FutureWarning: Series.__getitem__ treating keys as positions is deprecated. In a future version, integer keys will always be treated as labels (consistent with DataFrame behavior). To access a value by position, use `ser.iloc[pos]`\n",
      "  if pd.isnull(row[3]):\n",
      "C:\\Users\\Naveen\\AppData\\Local\\Temp\\ipykernel_29456\\2470326655.py:3: FutureWarning: Series.__getitem__ treating keys as positions is deprecated. In a future version, integer keys will always be treated as labels (consistent with DataFrame behavior). To access a value by position, use `ser.iloc[pos]`\n",
      "  if pd.isnull(row[3]):\n",
      "C:\\Users\\Naveen\\AppData\\Local\\Temp\\ipykernel_29456\\2470326655.py:3: FutureWarning: Series.__getitem__ treating keys as positions is deprecated. In a future version, integer keys will always be treated as labels (consistent with DataFrame behavior). To access a value by position, use `ser.iloc[pos]`\n",
      "  if pd.isnull(row[3]):\n",
      "C:\\Users\\Naveen\\AppData\\Local\\Temp\\ipykernel_29456\\2470326655.py:3: FutureWarning: Series.__getitem__ treating keys as positions is deprecated. In a future version, integer keys will always be treated as labels (consistent with DataFrame behavior). To access a value by position, use `ser.iloc[pos]`\n",
      "  if pd.isnull(row[3]):\n",
      "C:\\Users\\Naveen\\AppData\\Local\\Temp\\ipykernel_29456\\2470326655.py:3: FutureWarning: Series.__getitem__ treating keys as positions is deprecated. In a future version, integer keys will always be treated as labels (consistent with DataFrame behavior). To access a value by position, use `ser.iloc[pos]`\n",
      "  if pd.isnull(row[3]):\n",
      "C:\\Users\\Naveen\\AppData\\Local\\Temp\\ipykernel_29456\\2470326655.py:3: FutureWarning: Series.__getitem__ treating keys as positions is deprecated. In a future version, integer keys will always be treated as labels (consistent with DataFrame behavior). To access a value by position, use `ser.iloc[pos]`\n",
      "  if pd.isnull(row[3]):\n",
      "C:\\Users\\Naveen\\AppData\\Local\\Temp\\ipykernel_29456\\2470326655.py:3: FutureWarning: Series.__getitem__ treating keys as positions is deprecated. In a future version, integer keys will always be treated as labels (consistent with DataFrame behavior). To access a value by position, use `ser.iloc[pos]`\n",
      "  if pd.isnull(row[3]):\n",
      "C:\\Users\\Naveen\\AppData\\Local\\Temp\\ipykernel_29456\\2470326655.py:3: FutureWarning: Series.__getitem__ treating keys as positions is deprecated. In a future version, integer keys will always be treated as labels (consistent with DataFrame behavior). To access a value by position, use `ser.iloc[pos]`\n",
      "  if pd.isnull(row[3]):\n",
      "C:\\Users\\Naveen\\AppData\\Local\\Temp\\ipykernel_29456\\2470326655.py:3: FutureWarning: Series.__getitem__ treating keys as positions is deprecated. In a future version, integer keys will always be treated as labels (consistent with DataFrame behavior). To access a value by position, use `ser.iloc[pos]`\n",
      "  if pd.isnull(row[3]):\n",
      "C:\\Users\\Naveen\\AppData\\Local\\Temp\\ipykernel_29456\\2470326655.py:3: FutureWarning: Series.__getitem__ treating keys as positions is deprecated. In a future version, integer keys will always be treated as labels (consistent with DataFrame behavior). To access a value by position, use `ser.iloc[pos]`\n",
      "  if pd.isnull(row[3]):\n",
      "C:\\Users\\Naveen\\AppData\\Local\\Temp\\ipykernel_29456\\2470326655.py:3: FutureWarning: Series.__getitem__ treating keys as positions is deprecated. In a future version, integer keys will always be treated as labels (consistent with DataFrame behavior). To access a value by position, use `ser.iloc[pos]`\n",
      "  if pd.isnull(row[3]):\n",
      "C:\\Users\\Naveen\\AppData\\Local\\Temp\\ipykernel_29456\\2470326655.py:3: FutureWarning: Series.__getitem__ treating keys as positions is deprecated. In a future version, integer keys will always be treated as labels (consistent with DataFrame behavior). To access a value by position, use `ser.iloc[pos]`\n",
      "  if pd.isnull(row[3]):\n",
      "C:\\Users\\Naveen\\AppData\\Local\\Temp\\ipykernel_29456\\2470326655.py:3: FutureWarning: Series.__getitem__ treating keys as positions is deprecated. In a future version, integer keys will always be treated as labels (consistent with DataFrame behavior). To access a value by position, use `ser.iloc[pos]`\n",
      "  if pd.isnull(row[3]):\n",
      "C:\\Users\\Naveen\\AppData\\Local\\Temp\\ipykernel_29456\\2470326655.py:3: FutureWarning: Series.__getitem__ treating keys as positions is deprecated. In a future version, integer keys will always be treated as labels (consistent with DataFrame behavior). To access a value by position, use `ser.iloc[pos]`\n",
      "  if pd.isnull(row[3]):\n",
      "C:\\Users\\Naveen\\AppData\\Local\\Temp\\ipykernel_29456\\2470326655.py:3: FutureWarning: Series.__getitem__ treating keys as positions is deprecated. In a future version, integer keys will always be treated as labels (consistent with DataFrame behavior). To access a value by position, use `ser.iloc[pos]`\n",
      "  if pd.isnull(row[3]):\n"
     ]
    }
   ],
   "source": [
    "df_new_1 = df_new\n",
    "for index, row in df_new.iterrows():\n",
    "        if pd.isnull(row[3]):\n",
    "            df_new_1.iloc[index, 3] = math.sqrt((df_new_1.iloc[index - 1, 3])*(df_new_1.iloc[index + 1, 3]))"
   ]
  },
  {
   "cell_type": "code",
   "execution_count": 9,
   "id": "9dba714b-498d-40cb-9d2d-d603ae2f5fcb",
   "metadata": {},
   "outputs": [
    {
     "name": "stderr",
     "output_type": "stream",
     "text": [
      "C:\\Users\\Naveen\\AppData\\Local\\Temp\\ipykernel_29456\\3848831893.py:3: FutureWarning: Series.__getitem__ treating keys as positions is deprecated. In a future version, integer keys will always be treated as labels (consistent with DataFrame behavior). To access a value by position, use `ser.iloc[pos]`\n",
      "  if pd.isnull(row[0]):\n",
      "C:\\Users\\Naveen\\AppData\\Local\\Temp\\ipykernel_29456\\3848831893.py:3: FutureWarning: Series.__getitem__ treating keys as positions is deprecated. In a future version, integer keys will always be treated as labels (consistent with DataFrame behavior). To access a value by position, use `ser.iloc[pos]`\n",
      "  if pd.isnull(row[0]):\n",
      "C:\\Users\\Naveen\\AppData\\Local\\Temp\\ipykernel_29456\\3848831893.py:3: FutureWarning: Series.__getitem__ treating keys as positions is deprecated. In a future version, integer keys will always be treated as labels (consistent with DataFrame behavior). To access a value by position, use `ser.iloc[pos]`\n",
      "  if pd.isnull(row[0]):\n",
      "C:\\Users\\Naveen\\AppData\\Local\\Temp\\ipykernel_29456\\3848831893.py:3: FutureWarning: Series.__getitem__ treating keys as positions is deprecated. In a future version, integer keys will always be treated as labels (consistent with DataFrame behavior). To access a value by position, use `ser.iloc[pos]`\n",
      "  if pd.isnull(row[0]):\n",
      "C:\\Users\\Naveen\\AppData\\Local\\Temp\\ipykernel_29456\\3848831893.py:3: FutureWarning: Series.__getitem__ treating keys as positions is deprecated. In a future version, integer keys will always be treated as labels (consistent with DataFrame behavior). To access a value by position, use `ser.iloc[pos]`\n",
      "  if pd.isnull(row[0]):\n",
      "C:\\Users\\Naveen\\AppData\\Local\\Temp\\ipykernel_29456\\3848831893.py:3: FutureWarning: Series.__getitem__ treating keys as positions is deprecated. In a future version, integer keys will always be treated as labels (consistent with DataFrame behavior). To access a value by position, use `ser.iloc[pos]`\n",
      "  if pd.isnull(row[0]):\n",
      "C:\\Users\\Naveen\\AppData\\Local\\Temp\\ipykernel_29456\\3848831893.py:3: FutureWarning: Series.__getitem__ treating keys as positions is deprecated. In a future version, integer keys will always be treated as labels (consistent with DataFrame behavior). To access a value by position, use `ser.iloc[pos]`\n",
      "  if pd.isnull(row[0]):\n",
      "C:\\Users\\Naveen\\AppData\\Local\\Temp\\ipykernel_29456\\3848831893.py:3: FutureWarning: Series.__getitem__ treating keys as positions is deprecated. In a future version, integer keys will always be treated as labels (consistent with DataFrame behavior). To access a value by position, use `ser.iloc[pos]`\n",
      "  if pd.isnull(row[0]):\n",
      "C:\\Users\\Naveen\\AppData\\Local\\Temp\\ipykernel_29456\\3848831893.py:3: FutureWarning: Series.__getitem__ treating keys as positions is deprecated. In a future version, integer keys will always be treated as labels (consistent with DataFrame behavior). To access a value by position, use `ser.iloc[pos]`\n",
      "  if pd.isnull(row[0]):\n",
      "C:\\Users\\Naveen\\AppData\\Local\\Temp\\ipykernel_29456\\3848831893.py:3: FutureWarning: Series.__getitem__ treating keys as positions is deprecated. In a future version, integer keys will always be treated as labels (consistent with DataFrame behavior). To access a value by position, use `ser.iloc[pos]`\n",
      "  if pd.isnull(row[0]):\n",
      "C:\\Users\\Naveen\\AppData\\Local\\Temp\\ipykernel_29456\\3848831893.py:3: FutureWarning: Series.__getitem__ treating keys as positions is deprecated. In a future version, integer keys will always be treated as labels (consistent with DataFrame behavior). To access a value by position, use `ser.iloc[pos]`\n",
      "  if pd.isnull(row[0]):\n",
      "C:\\Users\\Naveen\\AppData\\Local\\Temp\\ipykernel_29456\\3848831893.py:3: FutureWarning: Series.__getitem__ treating keys as positions is deprecated. In a future version, integer keys will always be treated as labels (consistent with DataFrame behavior). To access a value by position, use `ser.iloc[pos]`\n",
      "  if pd.isnull(row[0]):\n",
      "C:\\Users\\Naveen\\AppData\\Local\\Temp\\ipykernel_29456\\3848831893.py:3: FutureWarning: Series.__getitem__ treating keys as positions is deprecated. In a future version, integer keys will always be treated as labels (consistent with DataFrame behavior). To access a value by position, use `ser.iloc[pos]`\n",
      "  if pd.isnull(row[0]):\n"
     ]
    }
   ],
   "source": [
    "df_new_2 = df_new_1\n",
    "for index, row in df_new_1.iterrows():\n",
    "        if pd.isnull(row[0]):\n",
    "            df_new_2 = df_new_2.drop(index, axis = 0)"
   ]
  },
  {
   "cell_type": "code",
   "execution_count": 10,
   "id": "c57278c7-93cd-4537-a44a-786372b97acc",
   "metadata": {},
   "outputs": [
    {
     "name": "stderr",
     "output_type": "stream",
     "text": [
      "C:\\Users\\Naveen\\AppData\\Local\\Temp\\ipykernel_29456\\2860943219.py:3: FutureWarning: Series.__getitem__ treating keys as positions is deprecated. In a future version, integer keys will always be treated as labels (consistent with DataFrame behavior). To access a value by position, use `ser.iloc[pos]`\n",
      "  if pd.isnull(row[1]):\n",
      "C:\\Users\\Naveen\\AppData\\Local\\Temp\\ipykernel_29456\\2860943219.py:3: FutureWarning: Series.__getitem__ treating keys as positions is deprecated. In a future version, integer keys will always be treated as labels (consistent with DataFrame behavior). To access a value by position, use `ser.iloc[pos]`\n",
      "  if pd.isnull(row[1]):\n",
      "C:\\Users\\Naveen\\AppData\\Local\\Temp\\ipykernel_29456\\2860943219.py:3: FutureWarning: Series.__getitem__ treating keys as positions is deprecated. In a future version, integer keys will always be treated as labels (consistent with DataFrame behavior). To access a value by position, use `ser.iloc[pos]`\n",
      "  if pd.isnull(row[1]):\n",
      "C:\\Users\\Naveen\\AppData\\Local\\Temp\\ipykernel_29456\\2860943219.py:3: FutureWarning: Series.__getitem__ treating keys as positions is deprecated. In a future version, integer keys will always be treated as labels (consistent with DataFrame behavior). To access a value by position, use `ser.iloc[pos]`\n",
      "  if pd.isnull(row[1]):\n"
     ]
    }
   ],
   "source": [
    "df_new_3 = df_new_2\n",
    "for index, row in df_new_2.iterrows():\n",
    "        if pd.isnull(row[1]):\n",
    "            df_new_3 = df_new_3.drop(index, axis = 0)"
   ]
  },
  {
   "cell_type": "code",
   "execution_count": 11,
   "id": "5ec0bc6e-a29d-4a69-9e28-b92d2b5d185c",
   "metadata": {},
   "outputs": [],
   "source": [
    "df_new_3.to_csv(\"_IITK_Courses_Report.csv\")"
   ]
  }
 ],
 "metadata": {
  "kernelspec": {
   "display_name": "Python(food101)",
   "language": "python",
   "name": "food101"
  },
  "language_info": {
   "codemirror_mode": {
    "name": "ipython",
    "version": 3
   },
   "file_extension": ".py",
   "mimetype": "text/x-python",
   "name": "python",
   "nbconvert_exporter": "python",
   "pygments_lexer": "ipython3",
   "version": "3.13.0"
  }
 },
 "nbformat": 4,
 "nbformat_minor": 5
}
