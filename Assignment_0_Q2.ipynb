{
 "cells": [
  {
   "cell_type": "code",
   "execution_count": 1,
   "id": "7b6edb6a-635f-471f-8681-a0bfdf35e811",
   "metadata": {},
   "outputs": [],
   "source": [
    "import numpy as np"
   ]
  },
  {
   "cell_type": "code",
   "execution_count": 2,
   "id": "1a60c184-b877-4a89-925b-272b127e6b37",
   "metadata": {},
   "outputs": [],
   "source": [
    "def dot_product(arr1, arr2):\n",
    "    if arr1.shape == arr2.shape:\n",
    "        result = np.array([])\n",
    "        for i in range (0, arr1.shape[0]):\n",
    "            for j in range (0, arr1.shape[1]):\n",
    "                x = arr1[i, j] * arr2[i, j]\n",
    "                j = j + 1\n",
    "                result = np.append(result, x)\n",
    "            i = i + 1\n",
    "        dot_result = result.reshape(arr1.shape)\n",
    "        return dot_result\n",
    "    else:\n",
    "        print(\"Dot product not valid!\")\n"
   ]
  },
  {
   "cell_type": "code",
   "execution_count": 3,
   "id": "d6366fcd-c3c1-496f-b7ba-57a0528f6d01",
   "metadata": {},
   "outputs": [],
   "source": [
    "def matrix_multiplication(arr1, arr2):\n",
    "    arr3 = np.array([])\n",
    "    if arr1.shape[1] == arr2.shape[0]:\n",
    "        for i in range(0, arr1.shape[0]):\n",
    "            for j in range(0, arr2.shape[1]):\n",
    "                y = 0\n",
    "                for k in range(0, arr1.shape[1]):\n",
    "                    x = arr1[i, k] * arr2[k, j]\n",
    "                    y = y + x\n",
    "                    k = k + 1\n",
    "                arr3 = np.append(arr3, y)\n",
    "                j = j + 1\n",
    "            i = i + 1\n",
    "        arr4 = arr3.reshape(arr1.shape[0], arr2.shape[1])\n",
    "        return arr4\n",
    "    else:\n",
    "        print(\"Matrix multiplication not valid!\")"
   ]
  },
  {
   "cell_type": "code",
   "execution_count": null,
   "id": "076376fb-b666-42f1-8903-c55624601165",
   "metadata": {},
   "outputs": [],
   "source": [
    "a = np.array(eval(input (\"Enter the first array: \")))\n",
    "b = np.array(eval(input (\"Enter the second array: \")))\n",
    "operation = input(\"Enter the required operation(dot/matrix): \")\n",
    "def matrix_operation(arr1, arr2, operation):\n",
    "    if operation == \"dot\":\n",
    "        return dot_product(arr1, arr2)\n",
    "    elif operation == \"matrix\":\n",
    "        return matrix_multiplication(arr1, arr2)\n",
    "    else:\n",
    "        print(\"Invalid operation!\")\n",
    "\n",
    "print(matrix_operation(a, b, operation))"
   ]
  },
  {
   "cell_type": "code",
   "execution_count": null,
   "id": "f373362f-a05b-4a24-85a6-8f1fc6e540f9",
   "metadata": {},
   "outputs": [],
   "source": []
  }
 ],
 "metadata": {
  "kernelspec": {
   "display_name": "Python(food101)",
   "language": "python",
   "name": "food101"
  },
  "language_info": {
   "codemirror_mode": {
    "name": "ipython",
    "version": 3
   },
   "file_extension": ".py",
   "mimetype": "text/x-python",
   "name": "python",
   "nbconvert_exporter": "python",
   "pygments_lexer": "ipython3",
   "version": "3.13.0"
  }
 },
 "nbformat": 4,
 "nbformat_minor": 5
}
