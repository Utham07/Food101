{
 "cells": [
  {
   "cell_type": "code",
   "execution_count": null,
   "id": "ca699888-da14-4e5d-a8c8-d95e98e06add",
   "metadata": {
    "scrolled": true
   },
   "outputs": [],
   "source": [
    "def slope_of_cubic(coefficient, x):\n",
    "    slope_of_cubic = 3*a*(pow(x, 2)) + b*2*pow(x, 1) + c\n",
    "    return slope_of_cubic\n",
    "\n",
    "a = float(input(\"Enter coefficient of cubic term: \"))\n",
    "b = float(input(\"Enter coefficient of square term: \"))\n",
    "c = float(input(\"Enter coefficient of linear term: \"))\n",
    "d = float(input(\"Enter constant term: \"))\n",
    "x = float(input(\"Enter the value of x: \"))\n",
    "coefficients = (a, b, c, d)\n",
    "\n",
    "cubic_slope = slope_of_cubic(coefficients, x)\n",
    "print(f\"Slope at x = {cubic_slope}\")"
   ]
  },
  {
   "cell_type": "code",
   "execution_count": null,
   "id": "a79bd564-6481-4cbf-8af2-9d8b701d7fe6",
   "metadata": {},
   "outputs": [],
   "source": []
  }
 ],
 "metadata": {
  "kernelspec": {
   "display_name": "Python(food101)",
   "language": "python",
   "name": "food101"
  },
  "language_info": {
   "codemirror_mode": {
    "name": "ipython",
    "version": 3
   },
   "file_extension": ".py",
   "mimetype": "text/x-python",
   "name": "python",
   "nbconvert_exporter": "python",
   "pygments_lexer": "ipython3",
   "version": "3.13.0"
  }
 },
 "nbformat": 4,
 "nbformat_minor": 5
}
